{
 "cells": [
  {
   "cell_type": "code",
   "execution_count": 16,
   "metadata": {},
   "outputs": [],
   "source": [
    "import pandas as pd\n",
    "import numpy as np\n",
    "import psycopg2\n",
    "from psycopg2.extras import DictCursor\n",
    "from minio import Minio\n",
    "import os\n",
    "\n",
    "\n",
    "DETAIL_CRAWL = 'detail_crawl'\n",
    "\n",
    "conn = psycopg2.connect(user=\"dpacrawler\",\n",
    "                        password=\"123456a@\",\n",
    "                        host=\"127.0.0.1\",\n",
    "                        port=\"5432\",\n",
    "                        database=\"dpacrawlconf\")\n",
    "\n",
    "\n",
    "client = Minio(\n",
    "    endpoint=\"lakedpaapi-fis-mbf-dplat.apps.xplat.fis.com.vn\",\n",
    "    access_key=\"I5pnix8qE2mtXlXR\",\n",
    "    secret_key=\"hzADsWEM8DGIIQBrfjNWNNy4j0OG0cSA\",\n",
    "    secure=False\n",
    ")"
   ]
  },
  {
   "cell_type": "code",
   "execution_count": 17,
   "metadata": {},
   "outputs": [],
   "source": [
    "import sys\n",
    "\n",
    "sys.path.append('../')\n",
    "from dejavu import Dejavu\n",
    "config = {\n",
    "    \"database\": {\n",
    "        \"host\": \"127.0.0.1\",\n",
    "        \"user\": \"dpacrawler\",\n",
    "        \"password\": \"123456a@\",\n",
    "        \"database\": \"dpacrawlconf\"\n",
    "    },\n",
    "    \"database_type\" : \"postgres\"\n",
    "}\n",
    "\n",
    "djv = Dejavu(config)"
   ]
  },
  {
   "cell_type": "code",
   "execution_count": 3,
   "metadata": {},
   "outputs": [],
   "source": [
    "def remove_file():\n",
    "    for dir in os.listdir('../mp3'):\n",
    "        os.remove(f'../mp3/{dir}')"
   ]
  },
  {
   "cell_type": "code",
   "execution_count": null,
   "metadata": {},
   "outputs": [],
   "source": [
    "from psycopg2.extensions import AsIs\n",
    "with djv.db.cursor() as cur:\n",
    "    exps = str(input('Enter condition for id:'))\n",
    "    query = f\"\"\"\n",
    "        SELECT id,name,path FROM {DETAIL_CRAWL}\n",
    "        where id %s;\n",
    "    \"\"\"\n",
    "    cur.execute(query,[AsIs(exps)])\n",
    "    while True:\n",
    "        remove_file()\n",
    "        rows = cur.fetchmany(50)\n",
    "        if not rows:\n",
    "            break\n",
    "        for row in rows:\n",
    "            print(row)"
   ]
  },
  {
   "cell_type": "code",
   "execution_count": 13,
   "metadata": {},
   "outputs": [],
   "source": [
    "def get_song_info():\n",
    "    global conn\n",
    "    global client\n",
    "    cur = conn.cursor()\n",
    "    remove_file()\n",
    "    song_info = {}\n",
    "    song_revert = {}\n",
    "    query = f\"\"\"\n",
    "        SELECT id,name,path FROM {DETAIL_CRAWL}\n",
    "        limit 10\n",
    "    \"\"\"\n",
    "    cur.execute(query)\n",
    "    while True:\n",
    "        remove_file()\n",
    "        rows = cur.fetchmany(50)\n",
    "        if not rows:\n",
    "            break\n",
    "        for row in rows:\n",
    "            list_path = row[2].split('/')\n",
    "            bucket_name = list_path[0]\n",
    "            row_2 = '/'.join(list_path[1:])\n",
    "            song_info[row[0]] = [row[1],row_2]\n",
    "            print(bucket_name)\n",
    "            print(row_2)\n",
    "            # song_revert[row[1]] = [row[0],row[2]]\n",
    "            client.fget_object(bucket_name=bucket_name,object_name=row_2,file_path=f'../mp3/{row[0]}.mp3')\n",
    "        # djv.fingerprint_directory(\"../mp3\", [\".mp3\"], 4,song_info)\n",
    "    cur.close()"
   ]
  },
  {
   "cell_type": "code",
   "execution_count": 84,
   "metadata": {},
   "outputs": [
    {
     "data": {
      "text/plain": [
       "<minio.datatypes.Object at 0x2979217ab50>"
      ]
     },
     "execution_count": 84,
     "metadata": {},
     "output_type": "execute_result"
    }
   ],
   "source": [
    "client.fget_object(bucket_name='youtube',object_name='Dunghoangpham/See Tình - Hoàng Thùy Linh  Dunghoangpham Cover.mp3',file_path=f'../test/442.mp3')"
   ]
  },
  {
   "cell_type": "code",
   "execution_count": 104,
   "metadata": {},
   "outputs": [],
   "source": [
    "# for x in client.list_objects('youtube',recursive=True):\n",
    "#     print(x.object_name)"
   ]
  },
  {
   "cell_type": "code",
   "execution_count": null,
   "metadata": {},
   "outputs": [],
   "source": [
    "get_song_info()"
   ]
  },
  {
   "cell_type": "code",
   "execution_count": 67,
   "metadata": {},
   "outputs": [],
   "source": [
    "from dejavu.logic.recognizer.file_recognizer import FileRecognizer\n",
    "song = djv.recognize(FileRecognizer, \"../test/dalab.mp3\")"
   ]
  },
  {
   "cell_type": "code",
   "execution_count": 85,
   "metadata": {},
   "outputs": [],
   "source": [
    "import abc\n",
    "from time import time\n",
    "from typing import Dict, List, Tuple\n",
    "from time import time\n",
    "from typing import Dict\n",
    "\n",
    "import dejavu.logic.decoder as decoder\n",
    "from dejavu.base_classes.base_recognizer import BaseRecognizer\n",
    "from dejavu.config.settings import (ALIGN_TIME, FINGERPRINT_TIME, QUERY_TIME,\n",
    "                                    RESULTS, TOTAL_TIME)\n",
    "import numpy as np\n",
    "\n",
    "from dejavu.config.settings import DEFAULT_FS\n",
    "filename = '../test/442.mp3'\n",
    "channels, djv.Fs, _ = decoder.read(filename, djv.limit)"
   ]
  },
  {
   "cell_type": "code",
   "execution_count": 86,
   "metadata": {},
   "outputs": [],
   "source": [
    "fingerprint_times = []\n",
    "hashes = set()  # to remove possible duplicated fingerprints we built a set.\n",
    "for channel in channels:\n",
    "    fingerprints, fingerprint_time = djv.generate_fingerprints(channel, Fs=djv.Fs)\n",
    "    fingerprint_times.append(fingerprint_time)\n",
    "    hashes |= set(fingerprints)\n",
    "\n",
    "matches, dedup_hashes, query_time = djv.find_matches(hashes)"
   ]
  },
  {
   "cell_type": "code",
   "execution_count": 87,
   "metadata": {},
   "outputs": [],
   "source": [
    "def calculate_time(s,e):\n",
    "    return (s - e)/DEFAULT_FS * DEFAULT_WINDOW_SIZE * DEFAULT_OVERLAP_RATIO"
   ]
  },
  {
   "cell_type": "code",
   "execution_count": 88,
   "metadata": {},
   "outputs": [],
   "source": [
    "import multiprocessing\n",
    "import os\n",
    "import sys\n",
    "import traceback\n",
    "from itertools import groupby\n",
    "from time import time\n",
    "import numpy as np\n",
    "from typing import Dict, List, Tuple\n",
    "\n",
    "import dejavu.logic.decoder as decoder\n",
    "from dejavu.base_classes.base_database import get_database\n",
    "from dejavu.config.settings import (DEFAULT_FS, DEFAULT_OVERLAP_RATIO,\n",
    "                                    DEFAULT_WINDOW_SIZE, FIELD_FILE_SHA1,\n",
    "                                    FIELD_TOTAL_HASHES,FIELD_SONG_ID,\n",
    "                                    FINGERPRINTED_CONFIDENCE,\n",
    "                                    FINGERPRINTED_HASHES, HASHES_MATCHED,\n",
    "                                    INPUT_CONFIDENCE, INPUT_HASHES, OFFSET,\n",
    "                                    OFFSET_SECS, SONG_ID, SONG_NAME, TOPN,TIME_CONSIDER)\n",
    "queried_hashes = len(hashes)\n",
    "from dejavu.logic.fingerprint import fingerprint\n",
    "sorted_matches = sorted(matches, key=lambda m: (m[0], m[1]))\n",
    "counts = [(*key, len(list(group))) for key, group in groupby(sorted_matches, key=lambda m: (m[0], m[1]))]\n",
    "songs_matches = sorted(\n",
    "    [max(list(group), key=lambda g: g[2]) for key, group in groupby(counts, key=lambda count: count[0])],\n",
    "    key=lambda count: count[2], reverse=True\n",
    ")\n",
    "\n",
    "songs_result = []\n",
    "list_tmp = []\n",
    "for song_id, offset, fingerprint_match in songs_matches[0:5]:  # consider topn elements in the result\n",
    "    song = djv.db.get_song_by_id(song_id)\n",
    "\n",
    "    song_name = song.get(SONG_NAME, None)\n",
    "    song_hashes = song.get(FIELD_TOTAL_HASHES, None)\n",
    "    nseconds = round(float(offset) / DEFAULT_FS * DEFAULT_WINDOW_SIZE * DEFAULT_OVERLAP_RATIO, 5)\n",
    "    hashes_matched = dedup_hashes[song_id]\n",
    "\n",
    "    list_offset = set()\n",
    "    for id, count_match,time_match in sorted_matches:\n",
    "        if id == song_id and offset == count_match:\n",
    "            list_offset.add(time_match)\n",
    "    list_offset = list(list_offset)\n",
    "    list_offset.sort()\n",
    "    time_similar = 0.0\n",
    "    for iter in range(0,len(list_offset)):\n",
    "        if iter == 0:\n",
    "            continue\n",
    "        delta = calculate_time(list_offset[iter],list_offset[iter -1])\n",
    "        if delta <= 1.5:\n",
    "            time_similar += delta\n",
    "    # min_time = np.min(list(list_offset))\n",
    "    # max_time = np.max(list(list_offset))\n",
    "    # list_tmp.append(list(list_offset))\n",
    "    # # if(len(list_offset) < 50):\n",
    "    # #     continue\n",
    "\n",
    "    accuracy_similar = 100 if time_similar > TIME_CONSIDER else time_similar/TIME_CONSIDER*100\n",
    "\n",
    "    song = {\n",
    "        'original_song_id':1,\n",
    "        'original_song_name':'test.mp3',\n",
    "        SONG_ID: song_id,\n",
    "        SONG_NAME: song_name,\n",
    "        INPUT_HASHES: queried_hashes,\n",
    "        FINGERPRINTED_HASHES: song_hashes,\n",
    "        'time_similar': float(time_similar),\n",
    "        'accuracy_similar':accuracy_similar,\n",
    "        'fingerprint_match':fingerprint_match,\n",
    "        HASHES_MATCHED: hashes_matched,\n",
    "        # Percentage regarding hashes matched vs hashes from the input.\n",
    "        INPUT_CONFIDENCE: round(hashes_matched / queried_hashes, 2),\n",
    "        # Percentage regarding hashes matched vs hashes fingerprinted in the db.\n",
    "        FINGERPRINTED_CONFIDENCE: round(hashes_matched / song_hashes, 2),\n",
    "        OFFSET: int(offset),\n",
    "        OFFSET_SECS: nseconds,\n",
    "        FIELD_FILE_SHA1: song.get(FIELD_FILE_SHA1, None).encode(\"utf8\")\n",
    "    }\n",
    "\n",
    "    # djv.db.insert_check_song(list(song.values())[:-1])\n",
    "\n",
    "    songs_result.append(song)"
   ]
  },
  {
   "cell_type": "code",
   "execution_count": 89,
   "metadata": {},
   "outputs": [
    {
     "data": {
      "text/plain": [
       "[{'original_song_id': 1,\n",
       "  'original_song_name': 'test.mp3',\n",
       "  'song_id': 46,\n",
       "  'song_name': 'Hoàng Thuỳ Linh - See Tình  Official Music Video.mp3',\n",
       "  'input_total_hashes': 62429,\n",
       "  'fingerprinted_hashes_in_db': 97821,\n",
       "  'time_similar': 7.801904761904762,\n",
       "  'accuracy_similar': 26.006349206349206,\n",
       "  'fingerprint_match': 24,\n",
       "  'hashes_matched_in_input': 6704,\n",
       "  'input_confidence': 0.11,\n",
       "  'fingerprinted_confidence': 0.07,\n",
       "  'offset': 715,\n",
       "  'offset_seconds': 33.20454,\n",
       "  'file_sha1': b'5D32843F92D7EDC3ACFAD5CC1C31D506E6A4B6DF'},\n",
       " {'original_song_id': 1,\n",
       "  'original_song_name': 'test.mp3',\n",
       "  'song_id': 44,\n",
       "  'song_name': 'Hoàng Thuỳ Linh - See Tình  Dance Performance.mp3',\n",
       "  'input_total_hashes': 62429,\n",
       "  'fingerprinted_hashes_in_db': 92253,\n",
       "  'time_similar': 2.2291156462585033,\n",
       "  'accuracy_similar': 7.430385487528344,\n",
       "  'fingerprint_match': 17,\n",
       "  'hashes_matched_in_input': 6307,\n",
       "  'input_confidence': 0.1,\n",
       "  'fingerprinted_confidence': 0.07,\n",
       "  'offset': 52,\n",
       "  'offset_seconds': 2.41488,\n",
       "  'file_sha1': b'4983E30601F61F0D5B21C7625DF65A3898188F33'},\n",
       " {'original_song_id': 1,\n",
       "  'original_song_name': 'test.mp3',\n",
       "  'song_id': 424,\n",
       "  'song_name': 'CỨ THỞ ĐI - ĐỨC PHÚC X JUKY SAN | OFFICIAL LIVE PERFORMANCE',\n",
       "  'input_total_hashes': 62429,\n",
       "  'fingerprinted_hashes_in_db': 102920,\n",
       "  'time_similar': 0.0,\n",
       "  'accuracy_similar': 0.0,\n",
       "  'fingerprint_match': 17,\n",
       "  'hashes_matched_in_input': 7090,\n",
       "  'input_confidence': 0.11,\n",
       "  'fingerprinted_confidence': 0.07,\n",
       "  'offset': 3185,\n",
       "  'offset_seconds': 147.91111,\n",
       "  'file_sha1': b'767A9AC941DE34D04883B30D77BC37226F709930'},\n",
       " {'original_song_id': 1,\n",
       "  'original_song_name': 'test.mp3',\n",
       "  'song_id': 751,\n",
       "  'song_name': 'Chúng Ta Không Thuộc Về Nhau _ Official Music Video _ Sơn Tùng M-TP-qGRU3sRbaYw.mp4',\n",
       "  'input_total_hashes': 62429,\n",
       "  'fingerprinted_hashes_in_db': 101862,\n",
       "  'time_similar': 0.0,\n",
       "  'accuracy_similar': 0.0,\n",
       "  'fingerprint_match': 16,\n",
       "  'hashes_matched_in_input': 7060,\n",
       "  'input_confidence': 0.11,\n",
       "  'fingerprinted_confidence': 0.07,\n",
       "  'offset': -1311,\n",
       "  'offset_seconds': -60.88272,\n",
       "  'file_sha1': b'557A42E34ACD41256971B1FF7ACB133668D781F1'},\n",
       " {'original_song_id': 1,\n",
       "  'original_song_name': 'test.mp3',\n",
       "  'song_id': 47,\n",
       "  'song_name': 'Hoàng Thuỳ Linh - See Tình  Remix Version.mp3',\n",
       "  'input_total_hashes': 62429,\n",
       "  'fingerprinted_hashes_in_db': 76123,\n",
       "  'time_similar': 0.0,\n",
       "  'accuracy_similar': 0.0,\n",
       "  'fingerprint_match': 15,\n",
       "  'hashes_matched_in_input': 6330,\n",
       "  'input_confidence': 0.1,\n",
       "  'fingerprinted_confidence': 0.08,\n",
       "  'offset': 1136,\n",
       "  'offset_seconds': 52.75574,\n",
       "  'file_sha1': b'D857368318AF01C70DC2959A3C843976A62B305A'}]"
      ]
     },
     "execution_count": 89,
     "metadata": {},
     "output_type": "execute_result"
    }
   ],
   "source": [
    "songs_result"
   ]
  },
  {
   "cell_type": "code",
   "execution_count": 75,
   "metadata": {},
   "outputs": [
    {
     "data": {
      "text/plain": [
       "{2102, 2143, 2156, 2184, 3408, 3435, 3462, 3489, 3516}"
      ]
     },
     "execution_count": 75,
     "metadata": {},
     "output_type": "execute_result"
    }
   ],
   "source": [
    "list_tmp[0].sort()\n",
    "set(list_tmp[0])"
   ]
  },
  {
   "cell_type": "code",
   "execution_count": 83,
   "metadata": {},
   "outputs": [
    {
     "data": {
      "text/plain": [
       "1.9040362811791383"
      ]
     },
     "execution_count": 83,
     "metadata": {},
     "output_type": "execute_result"
    }
   ],
   "source": [
    "(2143 - 2102)/DEFAULT_FS * DEFAULT_WINDOW_SIZE * DEFAULT_OVERLAP_RATIO"
   ]
  },
  {
   "cell_type": "code",
   "execution_count": null,
   "metadata": {},
   "outputs": [],
   "source": [
    "(2143 - 2102)/DEFAULT_FS * DEFAULT_WINDOW_SIZE * DEFAULT_OVERLAP_RATIO"
   ]
  }
 ],
 "metadata": {
  "interpreter": {
   "hash": "fe4737cf0a41cf5e93c7bf4b9dc2d43d3c69fc85d82c68e3039db569ea2744e9"
  },
  "kernelspec": {
   "display_name": "Python 3 (ipykernel)",
   "language": "python",
   "name": "python3"
  },
  "language_info": {
   "codemirror_mode": {
    "name": "ipython",
    "version": 3
   },
   "file_extension": ".py",
   "mimetype": "text/x-python",
   "name": "python",
   "nbconvert_exporter": "python",
   "pygments_lexer": "ipython3",
   "version": "3.9.7"
  }
 },
 "nbformat": 4,
 "nbformat_minor": 2
}
