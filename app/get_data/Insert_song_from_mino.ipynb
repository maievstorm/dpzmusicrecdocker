{
 "cells": [
  {
   "cell_type": "code",
   "execution_count": 1,
   "metadata": {},
   "outputs": [],
   "source": [
    "import pandas as pd\n",
    "import numpy as np\n",
    "import psycopg2\n",
    "from psycopg2.extras import DictCursor"
   ]
  },
  {
   "cell_type": "code",
   "execution_count": 2,
   "metadata": {},
   "outputs": [],
   "source": [
    "conn = psycopg2.connect(user=\"dpacrawler\",\n",
    "                        password=\"123456a@\",\n",
    "                        host=\"127.0.0.1\",\n",
    "                        port=\"5432\",\n",
    "                        database=\"dpacrawlconf\")"
   ]
  },
  {
   "cell_type": "code",
   "execution_count": 4,
   "metadata": {},
   "outputs": [],
   "source": [
    "from minio import Minio\n",
    "client = Minio(\n",
    "    endpoint=\"lakedpaapi-fis-mbf-dplat.apps.xplat.fis.com.vn\",\n",
    "    access_key=\"I5pnix8qE2mtXlXR\",\n",
    "    secret_key=\"hzADsWEM8DGIIQBrfjNWNNy4j0OG0cSA\",\n",
    "    secure=False\n",
    ")\n",
    "\n",
    "client = Minio(\n",
    "    endpoint=\"lakedpaapi-fis-mbf-dplat.apps.xplat.fis.com.vn\",\n",
    "    access_key=\"I5pnix8qE2mtXlXR\",\n",
    "    secret_key=\"hzADsWEM8DGIIQBrfjNWNNy4j0OG0cSA\",\n",
    "    secure=False\n",
    ")"
   ]
  },
  {
   "cell_type": "code",
   "execution_count": 5,
   "metadata": {},
   "outputs": [],
   "source": [
    "list_path = []\n",
    "for x in client.list_objects('youtube',recursive=True):\n",
    "    full_path = x.object_name\n",
    "    list_path.append([full_path.split('/')[1],full_path])"
   ]
  },
  {
   "cell_type": "code",
   "execution_count": 6,
   "metadata": {},
   "outputs": [],
   "source": [
    "query = \"\"\"\n",
    "    INSERT INTO \n",
    "        detail_crawl (crawl_master_id,name,path,item_type,status)\n",
    "    VALUES\n",
    "    (%s,%s,%s,%s,%s)\n",
    "\"\"\""
   ]
  },
  {
   "cell_type": "code",
   "execution_count": 7,
   "metadata": {},
   "outputs": [],
   "source": [
    "crawl_master_id = 1\n",
    "item_type = \"org_song\"\n",
    "status = 0\n",
    "for id,item in enumerate(list_path,start=1):\n",
    "    cur.execute(query,(crawl_master_id,item[0],item[1],item_type,status))"
   ]
  },
  {
   "cell_type": "code",
   "execution_count": 9,
   "metadata": {},
   "outputs": [],
   "source": [
    "conn.commit()\n",
    "conn.close()"
   ]
  },
  {
   "cell_type": "code",
   "execution_count": null,
   "metadata": {},
   "outputs": [],
   "source": []
  }
 ],
 "metadata": {
  "interpreter": {
   "hash": "fe4737cf0a41cf5e93c7bf4b9dc2d43d3c69fc85d82c68e3039db569ea2744e9"
  },
  "kernelspec": {
   "display_name": "Python 3.9.7 ('base')",
   "language": "python",
   "name": "python3"
  },
  "language_info": {
   "codemirror_mode": {
    "name": "ipython",
    "version": 3
   },
   "file_extension": ".py",
   "mimetype": "text/x-python",
   "name": "python",
   "nbconvert_exporter": "python",
   "pygments_lexer": "ipython3",
   "version": "3.9.7"
  },
  "orig_nbformat": 4
 },
 "nbformat": 4,
 "nbformat_minor": 2
}
